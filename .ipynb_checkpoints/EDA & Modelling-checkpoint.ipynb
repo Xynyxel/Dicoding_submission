{
 "cells": [
  {
   "cell_type": "markdown",
   "id": "8bd8bf8f",
   "metadata": {},
   "source": [
    "# Data Preparation"
   ]
  },
  {
   "cell_type": "code",
   "execution_count": 1,
   "id": "f02017be",
   "metadata": {
    "ExecuteTime": {
     "end_time": "2023-07-11T17:43:17.993020Z",
     "start_time": "2023-07-11T17:43:17.314204Z"
    },
    "id": "ge9D8TYU7a7S"
   },
   "outputs": [],
   "source": [
    "import pandas as pd"
   ]
  },
  {
   "cell_type": "code",
   "execution_count": 2,
   "id": "07cd53a6",
   "metadata": {
    "ExecuteTime": {
     "end_time": "2023-07-11T17:43:19.028512Z",
     "start_time": "2023-07-11T17:43:18.028463Z"
    },
    "id": "QQTiJVoNDPO6"
   },
   "outputs": [],
   "source": [
    "df = pd.read_csv(\"Online Retail.csv\")"
   ]
  },
  {
   "cell_type": "code",
   "execution_count": 3,
   "id": "2ceaea5f",
   "metadata": {
    "ExecuteTime": {
     "end_time": "2023-07-11T17:43:19.107833Z",
     "start_time": "2023-07-11T17:43:19.077894Z"
    }
   },
   "outputs": [
    {
     "data": {
      "text/html": [
       "<div>\n",
       "<style scoped>\n",
       "    .dataframe tbody tr th:only-of-type {\n",
       "        vertical-align: middle;\n",
       "    }\n",
       "\n",
       "    .dataframe tbody tr th {\n",
       "        vertical-align: top;\n",
       "    }\n",
       "\n",
       "    .dataframe thead th {\n",
       "        text-align: right;\n",
       "    }\n",
       "</style>\n",
       "<table border=\"1\" class=\"dataframe\">\n",
       "  <thead>\n",
       "    <tr style=\"text-align: right;\">\n",
       "      <th></th>\n",
       "      <th>InvoiceNo</th>\n",
       "      <th>StockCode</th>\n",
       "      <th>Description</th>\n",
       "      <th>Quantity</th>\n",
       "      <th>InvoiceDate</th>\n",
       "      <th>UnitPrice</th>\n",
       "      <th>CustomerID</th>\n",
       "      <th>Country</th>\n",
       "    </tr>\n",
       "  </thead>\n",
       "  <tbody>\n",
       "    <tr>\n",
       "      <th>0</th>\n",
       "      <td>536365</td>\n",
       "      <td>85123A</td>\n",
       "      <td>WHITE HANGING HEART T-LIGHT HOLDER</td>\n",
       "      <td>6</td>\n",
       "      <td>2010-12-01 08:26:00</td>\n",
       "      <td>2.55</td>\n",
       "      <td>17850</td>\n",
       "      <td>United Kingdom</td>\n",
       "    </tr>\n",
       "    <tr>\n",
       "      <th>1</th>\n",
       "      <td>536365</td>\n",
       "      <td>71053</td>\n",
       "      <td>WHITE METAL LANTERN</td>\n",
       "      <td>6</td>\n",
       "      <td>2010-12-01 08:26:00</td>\n",
       "      <td>3.39</td>\n",
       "      <td>17850</td>\n",
       "      <td>United Kingdom</td>\n",
       "    </tr>\n",
       "    <tr>\n",
       "      <th>2</th>\n",
       "      <td>536365</td>\n",
       "      <td>84406B</td>\n",
       "      <td>CREAM CUPID HEARTS COAT HANGER</td>\n",
       "      <td>8</td>\n",
       "      <td>2010-12-01 08:26:00</td>\n",
       "      <td>2.75</td>\n",
       "      <td>17850</td>\n",
       "      <td>United Kingdom</td>\n",
       "    </tr>\n",
       "    <tr>\n",
       "      <th>3</th>\n",
       "      <td>536365</td>\n",
       "      <td>84029G</td>\n",
       "      <td>KNITTED UNION FLAG HOT WATER BOTTLE</td>\n",
       "      <td>6</td>\n",
       "      <td>2010-12-01 08:26:00</td>\n",
       "      <td>3.39</td>\n",
       "      <td>17850</td>\n",
       "      <td>United Kingdom</td>\n",
       "    </tr>\n",
       "    <tr>\n",
       "      <th>4</th>\n",
       "      <td>536365</td>\n",
       "      <td>84029E</td>\n",
       "      <td>RED WOOLLY HOTTIE WHITE HEART.</td>\n",
       "      <td>6</td>\n",
       "      <td>2010-12-01 08:26:00</td>\n",
       "      <td>3.39</td>\n",
       "      <td>17850</td>\n",
       "      <td>United Kingdom</td>\n",
       "    </tr>\n",
       "  </tbody>\n",
       "</table>\n",
       "</div>"
      ],
      "text/plain": [
       "  InvoiceNo StockCode                          Description  Quantity  \\\n",
       "0    536365    85123A   WHITE HANGING HEART T-LIGHT HOLDER         6   \n",
       "1    536365     71053                  WHITE METAL LANTERN         6   \n",
       "2    536365    84406B       CREAM CUPID HEARTS COAT HANGER         8   \n",
       "3    536365    84029G  KNITTED UNION FLAG HOT WATER BOTTLE         6   \n",
       "4    536365    84029E       RED WOOLLY HOTTIE WHITE HEART.         6   \n",
       "\n",
       "           InvoiceDate  UnitPrice  CustomerID         Country  \n",
       "0  2010-12-01 08:26:00       2.55       17850  United Kingdom  \n",
       "1  2010-12-01 08:26:00       3.39       17850  United Kingdom  \n",
       "2  2010-12-01 08:26:00       2.75       17850  United Kingdom  \n",
       "3  2010-12-01 08:26:00       3.39       17850  United Kingdom  \n",
       "4  2010-12-01 08:26:00       3.39       17850  United Kingdom  "
      ]
     },
     "execution_count": 3,
     "metadata": {},
     "output_type": "execute_result"
    }
   ],
   "source": [
    "df.head()"
   ]
  },
  {
   "cell_type": "code",
   "execution_count": 4,
   "id": "9aa839af",
   "metadata": {
    "ExecuteTime": {
     "end_time": "2023-07-11T17:43:19.154152Z",
     "start_time": "2023-07-11T17:43:19.146140Z"
    }
   },
   "outputs": [
    {
     "data": {
      "text/plain": [
       "541909"
      ]
     },
     "execution_count": 4,
     "metadata": {},
     "output_type": "execute_result"
    }
   ],
   "source": [
    "len(df)"
   ]
  },
  {
   "cell_type": "markdown",
   "id": "cb23c145",
   "metadata": {},
   "source": [
    "# Check data Duplication"
   ]
  },
  {
   "cell_type": "code",
   "execution_count": 5,
   "id": "385823f5",
   "metadata": {
    "ExecuteTime": {
     "end_time": "2023-07-11T17:43:19.764495Z",
     "start_time": "2023-07-11T17:43:19.209013Z"
    }
   },
   "outputs": [
    {
     "data": {
      "text/plain": [
       "5268"
      ]
     },
     "execution_count": 5,
     "metadata": {},
     "output_type": "execute_result"
    }
   ],
   "source": [
    "# Check if any duplicated value \n",
    "df.duplicated().sum()"
   ]
  },
  {
   "cell_type": "code",
   "execution_count": 6,
   "id": "3a075c00",
   "metadata": {
    "ExecuteTime": {
     "end_time": "2023-07-11T17:43:21.059078Z",
     "start_time": "2023-07-11T17:43:19.813802Z"
    }
   },
   "outputs": [
    {
     "data": {
      "text/plain": [
       "0"
      ]
     },
     "execution_count": 6,
     "metadata": {},
     "output_type": "execute_result"
    }
   ],
   "source": [
    "# Drop duplicate value\n",
    "df = df.drop_duplicates()\n",
    "# Check is there any duplicate value\n",
    "df.duplicated().sum()"
   ]
  },
  {
   "cell_type": "markdown",
   "id": "31562c08",
   "metadata": {},
   "source": [
    "# Check missing Value"
   ]
  },
  {
   "cell_type": "code",
   "execution_count": 7,
   "id": "9dbdd1a7",
   "metadata": {
    "ExecuteTime": {
     "end_time": "2023-07-11T17:43:21.618514Z",
     "start_time": "2023-07-11T17:43:21.144599Z"
    }
   },
   "outputs": [
    {
     "data": {
      "text/html": [
       "<div>\n",
       "<style scoped>\n",
       "    .dataframe tbody tr th:only-of-type {\n",
       "        vertical-align: middle;\n",
       "    }\n",
       "\n",
       "    .dataframe tbody tr th {\n",
       "        vertical-align: top;\n",
       "    }\n",
       "\n",
       "    .dataframe thead th {\n",
       "        text-align: right;\n",
       "    }\n",
       "</style>\n",
       "<table border=\"1\" class=\"dataframe\">\n",
       "  <thead>\n",
       "    <tr style=\"text-align: right;\">\n",
       "      <th></th>\n",
       "      <th>variable</th>\n",
       "      <th>dtype</th>\n",
       "      <th>count</th>\n",
       "      <th>unique</th>\n",
       "      <th>missing</th>\n",
       "    </tr>\n",
       "  </thead>\n",
       "  <tbody>\n",
       "    <tr>\n",
       "      <th>0</th>\n",
       "      <td>InvoiceNo</td>\n",
       "      <td>object</td>\n",
       "      <td>536641</td>\n",
       "      <td>25900</td>\n",
       "      <td>0</td>\n",
       "    </tr>\n",
       "    <tr>\n",
       "      <th>1</th>\n",
       "      <td>StockCode</td>\n",
       "      <td>object</td>\n",
       "      <td>536641</td>\n",
       "      <td>4070</td>\n",
       "      <td>0</td>\n",
       "    </tr>\n",
       "    <tr>\n",
       "      <th>2</th>\n",
       "      <td>Description</td>\n",
       "      <td>object</td>\n",
       "      <td>536641</td>\n",
       "      <td>4224</td>\n",
       "      <td>1454</td>\n",
       "    </tr>\n",
       "    <tr>\n",
       "      <th>3</th>\n",
       "      <td>Quantity</td>\n",
       "      <td>int64</td>\n",
       "      <td>536641</td>\n",
       "      <td>722</td>\n",
       "      <td>0</td>\n",
       "    </tr>\n",
       "    <tr>\n",
       "      <th>4</th>\n",
       "      <td>InvoiceDate</td>\n",
       "      <td>object</td>\n",
       "      <td>536641</td>\n",
       "      <td>23260</td>\n",
       "      <td>0</td>\n",
       "    </tr>\n",
       "    <tr>\n",
       "      <th>5</th>\n",
       "      <td>UnitPrice</td>\n",
       "      <td>float64</td>\n",
       "      <td>536641</td>\n",
       "      <td>1630</td>\n",
       "      <td>0</td>\n",
       "    </tr>\n",
       "    <tr>\n",
       "      <th>6</th>\n",
       "      <td>CustomerID</td>\n",
       "      <td>int64</td>\n",
       "      <td>536641</td>\n",
       "      <td>4372</td>\n",
       "      <td>0</td>\n",
       "    </tr>\n",
       "    <tr>\n",
       "      <th>7</th>\n",
       "      <td>Country</td>\n",
       "      <td>object</td>\n",
       "      <td>536641</td>\n",
       "      <td>38</td>\n",
       "      <td>0</td>\n",
       "    </tr>\n",
       "  </tbody>\n",
       "</table>\n",
       "</div>"
      ],
      "text/plain": [
       "      variable    dtype   count  unique  missing\n",
       "0    InvoiceNo   object  536641   25900        0\n",
       "1    StockCode   object  536641    4070        0\n",
       "2  Description   object  536641    4224     1454\n",
       "3     Quantity    int64  536641     722        0\n",
       "4  InvoiceDate   object  536641   23260        0\n",
       "5    UnitPrice  float64  536641    1630        0\n",
       "6   CustomerID    int64  536641    4372        0\n",
       "7      Country   object  536641      38        0"
      ]
     },
     "execution_count": 7,
     "metadata": {},
     "output_type": "execute_result"
    }
   ],
   "source": [
    "variables = []\n",
    "dtypes = []\n",
    "count = []\n",
    "unique = []\n",
    "missing = []\n",
    "\n",
    "\n",
    "for item in df.columns:\n",
    "    variables.append(item)\n",
    "    dtypes.append(df[item].dtype)\n",
    "    count.append(len(df[item]))\n",
    "    unique.append(len(df[item].unique()))\n",
    "    missing.append(df[item].isna().sum())\n",
    "\n",
    "output = pd.DataFrame({\n",
    "    'variable': variables, \n",
    "    'dtype': dtypes,\n",
    "    'count': count,\n",
    "    'unique': unique,\n",
    "    'missing': missing, \n",
    "   \n",
    "})    \n",
    "\n",
    "output.sort_values(\"missing\",ascending=False).reset_index(drop=True)\n",
    "output"
   ]
  },
  {
   "cell_type": "code",
   "execution_count": null,
   "id": "97dea432",
   "metadata": {},
   "outputs": [],
   "source": []
  },
  {
   "cell_type": "code",
   "execution_count": 8,
   "id": "ec6eb204",
   "metadata": {
    "ExecuteTime": {
     "end_time": "2023-07-11T17:43:35.128576Z",
     "start_time": "2023-07-11T17:43:35.108818Z"
    }
   },
   "outputs": [],
   "source": [
    "# description itu gpp kosong"
   ]
  },
  {
   "cell_type": "code",
   "execution_count": 9,
   "id": "49709bf8",
   "metadata": {
    "ExecuteTime": {
     "end_time": "2023-07-11T17:43:48.508858Z",
     "start_time": "2023-07-11T17:43:48.491682Z"
    }
   },
   "outputs": [],
   "source": [
    "# uniprice minus?"
   ]
  },
  {
   "cell_type": "code",
   "execution_count": 10,
   "id": "311119db",
   "metadata": {
    "ExecuteTime": {
     "end_time": "2023-07-11T17:43:58.285192Z",
     "start_time": "2023-07-11T17:43:58.268008Z"
    }
   },
   "outputs": [],
   "source": [
    "# Quantity 0"
   ]
  },
  {
   "cell_type": "code",
   "execution_count": 11,
   "id": "983414da",
   "metadata": {
    "ExecuteTime": {
     "end_time": "2023-07-11T17:44:21.313020Z",
     "start_time": "2023-07-11T17:44:21.306341Z"
    }
   },
   "outputs": [],
   "source": [
    "# Invoice date datetime"
   ]
  },
  {
   "cell_type": "code",
   "execution_count": 12,
   "id": "c303f2d9",
   "metadata": {
    "ExecuteTime": {
     "end_time": "2023-07-11T17:44:27.685462Z",
     "start_time": "2023-07-11T17:44:27.673624Z"
    }
   },
   "outputs": [],
   "source": [
    "# customerid to int"
   ]
  },
  {
   "cell_type": "code",
   "execution_count": 13,
   "id": "00652c5f",
   "metadata": {
    "ExecuteTime": {
     "end_time": "2023-07-11T17:44:58.783003Z",
     "start_time": "2023-07-11T17:44:58.766934Z"
    }
   },
   "outputs": [],
   "source": [
    "# modeling beberapa teknik cluster"
   ]
  },
  {
   "cell_type": "code",
   "execution_count": 14,
   "id": "4f6240d0",
   "metadata": {
    "ExecuteTime": {
     "end_time": "2023-07-11T17:45:10.139529Z",
     "start_time": "2023-07-11T17:45:10.116699Z"
    }
   },
   "outputs": [],
   "source": [
    "# Evaluation beberapa teknik cluster"
   ]
  },
  {
   "cell_type": "code",
   "execution_count": 16,
   "id": "a99098fe",
   "metadata": {
    "ExecuteTime": {
     "end_time": "2023-07-11T17:45:20.292542Z",
     "start_time": "2023-07-11T17:45:20.283544Z"
    }
   },
   "outputs": [],
   "source": [
    "# Kesimpulan"
   ]
  },
  {
   "cell_type": "markdown",
   "id": "8c24e8a5",
   "metadata": {},
   "source": [
    "* Melakukan analisa untuk menentukan perilaku dan preferensi pelanggan dengan menggunakan cluster pelanggan\n",
    "* Melakukan identifikasi dan analisa produk populer dan melakukan cluster\n",
    "* Memberikan saran dan masukan untuk mengoptimalkan harga dan strategi pemasaran"
   ]
  },
  {
   "cell_type": "code",
   "execution_count": null,
   "id": "252b6dfb",
   "metadata": {},
   "outputs": [],
   "source": []
  }
 ],
 "metadata": {
  "kernelspec": {
   "display_name": "Python 3 (ipykernel)",
   "language": "python",
   "name": "python3"
  },
  "language_info": {
   "codemirror_mode": {
    "name": "ipython",
    "version": 3
   },
   "file_extension": ".py",
   "mimetype": "text/x-python",
   "name": "python",
   "nbconvert_exporter": "python",
   "pygments_lexer": "ipython3",
   "version": "3.8.5"
  },
  "toc": {
   "base_numbering": 1,
   "nav_menu": {},
   "number_sections": true,
   "sideBar": true,
   "skip_h1_title": false,
   "title_cell": "Table of Contents",
   "title_sidebar": "Contents",
   "toc_cell": false,
   "toc_position": {},
   "toc_section_display": true,
   "toc_window_display": false
  },
  "varInspector": {
   "cols": {
    "lenName": 16,
    "lenType": 16,
    "lenVar": 40
   },
   "kernels_config": {
    "python": {
     "delete_cmd_postfix": "",
     "delete_cmd_prefix": "del ",
     "library": "var_list.py",
     "varRefreshCmd": "print(var_dic_list())"
    },
    "r": {
     "delete_cmd_postfix": ") ",
     "delete_cmd_prefix": "rm(",
     "library": "var_list.r",
     "varRefreshCmd": "cat(var_dic_list()) "
    }
   },
   "types_to_exclude": [
    "module",
    "function",
    "builtin_function_or_method",
    "instance",
    "_Feature"
   ],
   "window_display": false
  }
 },
 "nbformat": 4,
 "nbformat_minor": 5
}
