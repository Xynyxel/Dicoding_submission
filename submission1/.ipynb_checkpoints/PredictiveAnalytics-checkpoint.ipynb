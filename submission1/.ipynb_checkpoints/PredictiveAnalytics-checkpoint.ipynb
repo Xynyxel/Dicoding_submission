{
 "cells": [
  {
   "cell_type": "markdown",
   "metadata": {
    "id": "DqrXz7aD7iG0"
   },
   "source": [
    "# **Laporan Proyek Machine Learning - Tony Wijaya**\n",
    "---"
   ]
  },
  {
   "cell_type": "markdown",
   "metadata": {
    "heading_collapsed": true,
    "id": "p4e7McYn7k5T"
   },
   "source": [
    "## **Domain Proyek**\n",
    "---"
   ]
  },
  {
   "cell_type": "markdown",
   "metadata": {
    "heading_collapsed": true,
    "hidden": true
   },
   "source": [
    "### Latar Belakang\n",
    "\n",
    "        Saat ini, setiap orang perlu bersiap menghadapi pergeseran budaya di mana kemajuan teknologi dituntut untuk memenuhi semua kebutuhan. Dalam hal kebutuhan, manusia saat ini tidak hanya memenuhi kebutuhannya akan pangan, sandang dan papan, tetapi juga kebutuhannya sendiri. Namun, fokusnya juga pada layanan, kualitas dan harga produk dan layanan penjualan. Hal ini memberikan peluang bagi sebagian besar perusahaan e-commerce untuk mempresentasikan marketplace mereka dalam bentuk jual beli barang secara online. E-commerce mencakup semua proses pengembangan, pemasaran, penjualan, pengiriman, pelayanan dan pembayaran pelanggan, didukung oleh jaringan bisnis mitranya yang lebih luas. Sistem yang digunakan untuk memanfaatkan e-commerce sangat bergantung pada Internet, dan jumlah pengguna potensial meningkat dari tahun ke tahun.\n",
    "        Dataset transaksi ritel online berisi informasi tentang transaksi yang dilakukan oleh pelanggan melalui platform e-commerce. Dataset ini berisi data tentang produk yang dibeli, jumlah setiap produk, tanggal dan waktu setiap transaksi, harga setiap produk, pengidentifikasi unik untuk setiap pelanggan yang melakukan pembelian, dan negara tempat setiap pelanggan berada. . Kumpulan data ini dapat digunakan untuk menganalisis perilaku dan preferensi pelanggan, mengidentifikasi produk populer, dan mengoptimalkan harga dan strategi pemasaran. Kumpulan data ini berisi sejumlah besar data transaksional yang dapat digunakan untuk melatih model prediktif dan membuat keputusan berdasarkan data, menjadikannya ideal untuk analitik data dan aplikasi pembelajaran mesin.\n",
    "---"
   ]
  },
  {
   "cell_type": "markdown",
   "metadata": {
    "heading_collapsed": true,
    "hidden": true
   },
   "source": [
    "### Tujuan\n",
    "\n",
    "1. Menganalisis perilaku dan preferensi pelanggan\n",
    "2. Mengindentifikasi produk populer\n",
    "3. Mengoptimalkan harga dan strategi pemasaran\n",
    "---"
   ]
  },
  {
   "cell_type": "markdown",
   "metadata": {
    "heading_collapsed": true,
    "hidden": true
   },
   "source": [
    "### Manfaat\n",
    "\n",
    "1. Menambah pengalaman penulis dalam menganalisis dataset transaksional yang kedepannya dapat membantu menganalisis data transaksi di toko sendiri yang masih menggunakan data tradisional yaitu pencatatan manual\n",
    "---"
   ]
  },
  {
   "cell_type": "markdown",
   "metadata": {},
   "source": [
    "## **Business Understanding**\n",
    "---"
   ]
  },
  {
   "cell_type": "markdown",
   "metadata": {
    "heading_collapsed": true
   },
   "source": [
    "### **Problem Statements**\n",
    "Menjelaskan pernyataan masalah latar belakang:\n",
    "\n",
    "* Bagaimana menganalisis perilaku dan preferensi pelanggan\n",
    "* Bagaimana mengindentifikasi produk populer\n",
    "* Bagaimana mengoptimalkan harga dan strategi \n",
    "---"
   ]
  },
  {
   "cell_type": "markdown",
   "metadata": {
    "heading_collapsed": true
   },
   "source": [
    "### **Goals**\n",
    "Menjelaskan tujuan dari pernyataan masalah:\n",
    "\n",
    "* Melakukan analisa untuk menentukan perilaku dan preferensi pelanggan dengan menggunakan cluster pelanggan\n",
    "* Melakukan identifikasi dan analisa produk populer \n",
    "* Memberikan saran dan masukan untuk mengoptimalkan harga dan strategi pemasaran\n",
    "\n",
    "---"
   ]
  },
  {
   "cell_type": "markdown",
   "metadata": {
    "heading_collapsed": true
   },
   "source": [
    "## Data Understanding\n",
    "---"
   ]
  },
  {
   "cell_type": "markdown",
   "metadata": {
    "hidden": true
   },
   "source": [
    "### Dataset description\n",
    "\n",
    "Dataset yang digunakan berasal dari kaggle. Dataset hanya berisi 1 data yaitu Online Retail.csv yang berisi data transaksional dari berbagai negara dan berisi sebanyak 541909 baris data.\n",
    "\n",
    "Berikut adalah variabel yang digunakan pada dataset tersebut\n",
    "- StockCode: Kode yang digunakan untuk mengidentifikasi produk yang dibeli\n",
    "- Description : Keterangan singkat tentang produk yang dibeli\n",
    "- Quantity: Jumlah produk yang dibeli\n",
    "- InvoiceDate: Tanggal dan waktu pembelian dilakukan\n",
    "- UnitPrice : Harga satu unit produk yang dibeli\n",
    "- CustomerID: Pengidentifikasi unik untuk pelanggan yang melakukan pembelian\n",
    "- Country: Negara tempat pelanggan yang melakukan pembelian berada"
   ]
  },
  {
   "cell_type": "markdown",
   "metadata": {
    "id": "m87KUPY-8FdF"
   },
   "source": [
    "## Data Preparation\n",
    "Pada bagian ini Anda menerapkan dan menyebutkan teknik data preparation yang dilakukan. Teknik yang digunakan pada notebook dan laporan harus berurutan.\n",
    "\n",
    "Rubrik/Kriteria Tambahan (Opsional):\n",
    "\n",
    "* Menjelaskan proses data preparation yang dilakukan\n",
    "* Menjelaskan alasan mengapa diperlukan tahapan data preparation tersebut.\n",
    "\n",
    "## Modeling\n",
    "Tahapan ini membahas mengenai model machine learning yang digunakan untuk menyelesaikan permasalahan. Anda perlu menjelaskan tahapan dan parameter yang digunakan pada proses pemodelan.\n",
    "\n",
    "Rubrik/Kriteria Tambahan (Opsional):\n",
    "\n",
    "Menjelaskan kelebihan dan kekurangan dari setiap algoritma yang digunakan.\n",
    "Jika menggunakan satu algoritma pada solution statement, lakukan proses improvement terhadap model dengan hyperparameter tuning. Jelaskan proses improvement yang dilakukan.\n",
    "Jika menggunakan dua atau lebih algoritma pada solution statement, maka pilih model terbaik sebagai solusi. Jelaskan mengapa memilih model tersebut sebagai model terbaik.\n",
    "\n",
    "## Evaluation\n",
    "Pada bagian ini anda perlu menyebutkan metrik evaluasi yang digunakan. Lalu anda perlu menjelaskan hasil proyek berdasarkan metrik evaluasi yang digunakan.\n",
    "\n",
    "Sebagai contoh, Anda memiih kasus klasifikasi dan menggunakan metrik akurasi, precision, recall, dan F1 score. Jelaskan mengenai beberapa hal berikut:\n",
    "\n",
    "Penjelasan mengenai metrik yang digunakan\n",
    "Menjelaskan hasil proyek berdasarkan metrik evaluasi\n",
    "Ingatlah, metrik evaluasi yang digunakan harus sesuai dengan konteks data, problem statement, dan solusi yang diinginkan.\n",
    "\n",
    "Rubrik/Kriteria Tambahan (Opsional):\n",
    "\n",
    "Menjelaskan formula metrik dan bagaimana metrik tersebut bekerja.\n",
    "---Ini adalah bagian akhir laporan---\n",
    "\n",
    "Catatan:\n",
    "\n",
    "Anda dapat menambahkan gambar, kode, atau tabel ke dalam laporan jika diperlukan. Temukan caranya pada contoh dokumen markdown di situs editor Dillinger, Github Guides: Mastering markdown, atau sumber lain di internet. Semangat!\n",
    "Jika terdapat penjelasan yang harus menyertakan code snippet, tuliskan dengan sewajarnya. Tidak perlu menuliskan keseluruhan kode project, cukup bagian yang ingin dijelaskan saja."
   ]
  },
  {
   "cell_type": "markdown",
   "metadata": {
    "id": "szAa9YKYDO7F"
   },
   "source": [
    "Referensi \n",
    "\n",
    "- [Dataset](https://www.kaggle.com/datasets/abhishekrp1517/online-retail-transactions-dataset?select=Online+Retail.csv)\n",
    "- [Format Laporan](https://github.com/dicodingacademy/contoh-laporan-mlt/blob/main/format_laporan_submission_1.md)"
   ]
  },
  {
   "cell_type": "code",
   "execution_count": 1,
   "metadata": {
    "ExecuteTime": {
     "end_time": "2023-07-10T10:42:43.206769Z",
     "start_time": "2023-07-10T10:42:42.281508Z"
    },
    "id": "ge9D8TYU7a7S"
   },
   "outputs": [],
   "source": [
    "import pandas as pd"
   ]
  },
  {
   "cell_type": "code",
   "execution_count": 2,
   "metadata": {
    "ExecuteTime": {
     "end_time": "2023-07-10T10:42:44.882105Z",
     "start_time": "2023-07-10T10:42:43.239219Z"
    },
    "id": "QQTiJVoNDPO6"
   },
   "outputs": [],
   "source": [
    "df = pd.read_csv(\"Online Retail.csv\")"
   ]
  },
  {
   "cell_type": "code",
   "execution_count": 3,
   "metadata": {
    "ExecuteTime": {
     "end_time": "2023-07-10T10:42:45.008885Z",
     "start_time": "2023-07-10T10:42:44.964118Z"
    }
   },
   "outputs": [
    {
     "data": {
      "text/html": [
       "<div>\n",
       "<style scoped>\n",
       "    .dataframe tbody tr th:only-of-type {\n",
       "        vertical-align: middle;\n",
       "    }\n",
       "\n",
       "    .dataframe tbody tr th {\n",
       "        vertical-align: top;\n",
       "    }\n",
       "\n",
       "    .dataframe thead th {\n",
       "        text-align: right;\n",
       "    }\n",
       "</style>\n",
       "<table border=\"1\" class=\"dataframe\">\n",
       "  <thead>\n",
       "    <tr style=\"text-align: right;\">\n",
       "      <th></th>\n",
       "      <th>InvoiceNo</th>\n",
       "      <th>StockCode</th>\n",
       "      <th>Description</th>\n",
       "      <th>Quantity</th>\n",
       "      <th>InvoiceDate</th>\n",
       "      <th>UnitPrice</th>\n",
       "      <th>CustomerID</th>\n",
       "      <th>Country</th>\n",
       "    </tr>\n",
       "  </thead>\n",
       "  <tbody>\n",
       "    <tr>\n",
       "      <th>0</th>\n",
       "      <td>536365</td>\n",
       "      <td>85123A</td>\n",
       "      <td>WHITE HANGING HEART T-LIGHT HOLDER</td>\n",
       "      <td>6</td>\n",
       "      <td>2010-12-01 08:26:00</td>\n",
       "      <td>2.55</td>\n",
       "      <td>17850</td>\n",
       "      <td>United Kingdom</td>\n",
       "    </tr>\n",
       "    <tr>\n",
       "      <th>1</th>\n",
       "      <td>536365</td>\n",
       "      <td>71053</td>\n",
       "      <td>WHITE METAL LANTERN</td>\n",
       "      <td>6</td>\n",
       "      <td>2010-12-01 08:26:00</td>\n",
       "      <td>3.39</td>\n",
       "      <td>17850</td>\n",
       "      <td>United Kingdom</td>\n",
       "    </tr>\n",
       "    <tr>\n",
       "      <th>2</th>\n",
       "      <td>536365</td>\n",
       "      <td>84406B</td>\n",
       "      <td>CREAM CUPID HEARTS COAT HANGER</td>\n",
       "      <td>8</td>\n",
       "      <td>2010-12-01 08:26:00</td>\n",
       "      <td>2.75</td>\n",
       "      <td>17850</td>\n",
       "      <td>United Kingdom</td>\n",
       "    </tr>\n",
       "    <tr>\n",
       "      <th>3</th>\n",
       "      <td>536365</td>\n",
       "      <td>84029G</td>\n",
       "      <td>KNITTED UNION FLAG HOT WATER BOTTLE</td>\n",
       "      <td>6</td>\n",
       "      <td>2010-12-01 08:26:00</td>\n",
       "      <td>3.39</td>\n",
       "      <td>17850</td>\n",
       "      <td>United Kingdom</td>\n",
       "    </tr>\n",
       "    <tr>\n",
       "      <th>4</th>\n",
       "      <td>536365</td>\n",
       "      <td>84029E</td>\n",
       "      <td>RED WOOLLY HOTTIE WHITE HEART.</td>\n",
       "      <td>6</td>\n",
       "      <td>2010-12-01 08:26:00</td>\n",
       "      <td>3.39</td>\n",
       "      <td>17850</td>\n",
       "      <td>United Kingdom</td>\n",
       "    </tr>\n",
       "  </tbody>\n",
       "</table>\n",
       "</div>"
      ],
      "text/plain": [
       "  InvoiceNo StockCode                          Description  Quantity  \\\n",
       "0    536365    85123A   WHITE HANGING HEART T-LIGHT HOLDER         6   \n",
       "1    536365     71053                  WHITE METAL LANTERN         6   \n",
       "2    536365    84406B       CREAM CUPID HEARTS COAT HANGER         8   \n",
       "3    536365    84029G  KNITTED UNION FLAG HOT WATER BOTTLE         6   \n",
       "4    536365    84029E       RED WOOLLY HOTTIE WHITE HEART.         6   \n",
       "\n",
       "           InvoiceDate  UnitPrice  CustomerID         Country  \n",
       "0  2010-12-01 08:26:00       2.55       17850  United Kingdom  \n",
       "1  2010-12-01 08:26:00       3.39       17850  United Kingdom  \n",
       "2  2010-12-01 08:26:00       2.75       17850  United Kingdom  \n",
       "3  2010-12-01 08:26:00       3.39       17850  United Kingdom  \n",
       "4  2010-12-01 08:26:00       3.39       17850  United Kingdom  "
      ]
     },
     "execution_count": 3,
     "metadata": {},
     "output_type": "execute_result"
    }
   ],
   "source": [
    "df.head()"
   ]
  },
  {
   "cell_type": "markdown",
   "metadata": {},
   "source": [
    "## Daftar Pustaka"
   ]
  },
  {
   "cell_type": "markdown",
   "metadata": {},
   "source": [
    "[1] N. A. Rakhmawati, A. E. Permana, A. M. Reyhan, and H. Rafli, “Analisa Transaksi Belanja Online Pada Masa Pandemi Covid-19,” J. Teknoinfo, vol. 15, no. 1, p. 32, 2021, doi: 10.33365/jti.v15i1.868."
   ]
  },
  {
   "cell_type": "code",
   "execution_count": null,
   "metadata": {},
   "outputs": [],
   "source": []
  }
 ],
 "metadata": {
  "colab": {
   "provenance": []
  },
  "kernelspec": {
   "display_name": "Python 3 (ipykernel)",
   "language": "python",
   "name": "python3"
  },
  "language_info": {
   "codemirror_mode": {
    "name": "ipython",
    "version": 3
   },
   "file_extension": ".py",
   "mimetype": "text/x-python",
   "name": "python",
   "nbconvert_exporter": "python",
   "pygments_lexer": "ipython3",
   "version": "3.8.5"
  },
  "toc": {
   "base_numbering": 1,
   "nav_menu": {},
   "number_sections": true,
   "sideBar": true,
   "skip_h1_title": false,
   "title_cell": "Table of Contents",
   "title_sidebar": "Contents",
   "toc_cell": false,
   "toc_position": {},
   "toc_section_display": true,
   "toc_window_display": false
  },
  "varInspector": {
   "cols": {
    "lenName": 16,
    "lenType": 16,
    "lenVar": 40
   },
   "kernels_config": {
    "python": {
     "delete_cmd_postfix": "",
     "delete_cmd_prefix": "del ",
     "library": "var_list.py",
     "varRefreshCmd": "print(var_dic_list())"
    },
    "r": {
     "delete_cmd_postfix": ") ",
     "delete_cmd_prefix": "rm(",
     "library": "var_list.r",
     "varRefreshCmd": "cat(var_dic_list()) "
    }
   },
   "types_to_exclude": [
    "module",
    "function",
    "builtin_function_or_method",
    "instance",
    "_Feature"
   ],
   "window_display": false
  }
 },
 "nbformat": 4,
 "nbformat_minor": 1
}
