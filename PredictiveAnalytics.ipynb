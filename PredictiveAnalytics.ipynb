{
 "cells": [
  {
   "cell_type": "markdown",
   "metadata": {
    "id": "DqrXz7aD7iG0"
   },
   "source": [
    "# **Laporan Proyek Machine Learning - Tony Wijaya**\n",
    "---"
   ]
  },
  {
   "cell_type": "markdown",
   "metadata": {
    "heading_collapsed": true,
    "id": "p4e7McYn7k5T"
   },
   "source": [
    "## **Domain Proyek**\n",
    "---"
   ]
  },
  {
   "cell_type": "markdown",
   "metadata": {
    "heading_collapsed": true,
    "hidden": true
   },
   "source": [
    "### Latar Belakang\n",
    "\n",
    "        Saat ini, setiap orang perlu bersiap menghadapi pergeseran budaya di mana kemajuan teknologi dituntut untuk memenuhi semua kebutuhan. Dalam hal kebutuhan, manusia saat ini tidak hanya memenuhi kebutuhannya akan pangan, sandang dan papan, tetapi juga kebutuhannya sendiri. Namun, fokusnya juga pada layanan, kualitas dan harga produk dan layanan penjualan. Hal ini memberikan peluang bagi sebagian besar perusahaan e-commerce untuk mempresentasikan marketplace mereka dalam bentuk jual beli barang secara online. E-commerce mencakup semua proses pengembangan, pemasaran, penjualan, pengiriman, pelayanan dan pembayaran pelanggan, didukung oleh jaringan bisnis mitranya yang lebih luas. Sistem yang digunakan untuk memanfaatkan e-commerce sangat bergantung pada Internet, dan jumlah pengguna potensial meningkat dari tahun ke tahun.\n",
    "        Dataset transaksi ritel online berisi informasi tentang transaksi yang dilakukan oleh pelanggan melalui platform e-commerce. Dataset ini berisi data tentang produk yang dibeli, jumlah setiap produk, tanggal dan waktu setiap transaksi, harga setiap produk, pengidentifikasi unik untuk setiap pelanggan yang melakukan pembelian, dan negara tempat setiap pelanggan berada. . Kumpulan data ini dapat digunakan untuk menganalisis perilaku dan preferensi pelanggan, mengidentifikasi produk populer, dan mengoptimalkan harga dan strategi pemasaran. Kumpulan data ini berisi sejumlah besar data transaksional yang dapat digunakan untuk melatih model prediktif dan membuat keputusan berdasarkan data, menjadikannya ideal untuk analitik data dan aplikasi pembelajaran mesin.\n",
    "---"
   ]
  },
  {
   "cell_type": "markdown",
   "metadata": {
    "heading_collapsed": true,
    "hidden": true
   },
   "source": [
    "### Tujuan\n",
    "\n",
    "1. Menganalisis perilaku dan preferensi pelanggan\n",
    "2. Mengindentifikasi produk populer\n",
    "3. Mengoptimalkan harga dan strategi pemasaran\n",
    "---"
   ]
  },
  {
   "cell_type": "markdown",
   "metadata": {
    "heading_collapsed": true,
    "hidden": true
   },
   "source": [
    "### Manfaat\n",
    "\n",
    "1. Menambah pengalaman penulis dalam menganalisis dataset transaksional yang kedepannya dapat membantu menganalisis data transaksi di toko sendiri yang masih menggunakan data tradisional yaitu pencatatan manual\n",
    "---"
   ]
  },
  {
   "cell_type": "markdown",
   "metadata": {
    "heading_collapsed": true
   },
   "source": [
    "## **Business Understanding**\n",
    "---"
   ]
  },
  {
   "cell_type": "markdown",
   "metadata": {
    "heading_collapsed": true,
    "hidden": true
   },
   "source": [
    "### **Problem Statements**\n",
    "Menjelaskan pernyataan masalah latar belakang:\n",
    "\n",
    "* Bagaimana menganalisis perilaku dan preferensi pelanggan\n",
    "* Bagaimana mengindentifikasi produk populer\n",
    "* Bagaimana mengoptimalkan harga dan strategi \n",
    "---"
   ]
  },
  {
   "cell_type": "markdown",
   "metadata": {
    "heading_collapsed": true,
    "hidden": true
   },
   "source": [
    "### **Goals**\n",
    "Menjelaskan tujuan dari pernyataan masalah:\n",
    "\n",
    "* Melakukan analisa untuk menentukan perilaku dan preferensi pelanggan dengan menggunakan cluster pelanggan\n",
    "* Melakukan identifikasi dan analisa produk populer \n",
    "* Memberikan saran dan masukan untuk mengoptimalkan harga dan strategi pemasaran\n",
    "\n",
    "---"
   ]
  },
  {
   "cell_type": "markdown",
   "metadata": {
    "heading_collapsed": true
   },
   "source": [
    "## Data Understanding\n",
    "---"
   ]
  },
  {
   "cell_type": "markdown",
   "metadata": {
    "heading_collapsed": true,
    "hidden": true
   },
   "source": [
    "### Dataset description\n",
    "\n",
    "Dataset yang digunakan berasal dari kaggle. Dataset hanya berisi 1 data yaitu <mark>Online Retail.csv</mark> yang berisi data transaksional dari berbagai negara dan berisi sebanyak <mark>541909</mark> baris data.\n",
    "\n",
    "Berikut adalah variabel yang digunakan pada dataset tersebut\n",
    "- StockCode: Kode yang digunakan untuk mengidentifikasi produk yang dibeli\n",
    "- Description : Keterangan singkat tentang produk yang dibeli\n",
    "- Quantity: Jumlah produk yang dibeli\n",
    "- InvoiceDate: Tanggal dan waktu pembelian dilakukan\n",
    "- UnitPrice : Harga satu unit produk yang dibeli\n",
    "- CustomerID: Pengidentifikasi unik untuk pelanggan yang melakukan pembelian\n",
    "- Country: Negara tempat pelanggan yang melakukan pembelian berada"
   ]
  },
  {
   "cell_type": "markdown",
   "metadata": {},
   "source": [
    "## Data Preparation\n",
    "\n",
    "Langkah-langkah yang digunakan penulis adalah sebagai berikut\n",
    "1. Data Preparation\n",
    "2. Check Data Duplication\n",
    "3. Check Missing Value\n",
    "4. Data Preprocessing\n",
    "5. Describe Variable\n",
    "6. EDA\n"
   ]
  },
  {
   "cell_type": "markdown",
   "metadata": {},
   "source": [
    "### Data Preparation"
   ]
  },
  {
   "cell_type": "markdown",
   "metadata": {},
   "source": [
    "Langkah-langkah pada tahap data preparation\n",
    "1. Mulai dari mengimport library yang akan dibutuhkan, \n",
    "2. Melakukan read data csv menggunakan library pandas\n",
    "3. Melakukan inspeksi sederhana \n",
    "    * Melihat 5 data pertama\n",
    "    * Melihat berapa jumlah data\n",
    "    * Melihat variabel dan tipe data untuk dianalisa"
   ]
  },
  {
   "cell_type": "markdown",
   "metadata": {},
   "source": [
    "### Check Data Duplication\n",
    "\n",
    "Terdapat <mark>5268</mark> data yang duplikat sehingga lebih baik di drop data yang akan digunakan untuk analisa."
   ]
  },
  {
   "cell_type": "markdown",
   "metadata": {},
   "source": [
    "### Check Missing Value\n",
    "\n",
    "| variable      | dtype      | count    | unique   |  missing |\n",
    "| ------------- |------------| ---------| ---------|----------|\n",
    "| InvoiceNo     | object     | 536641   | 25900    |    0     |\n",
    "| StockCode     | object     | 536641   | 4070     |    0     |\n",
    "| Description   | object     | 536641   | 4224     |    1454  |\n",
    "| Quantity      | int64      | 536641   | 722      |    0     |\n",
    "| InvoiceDate   | object     | 536641   | 23260    |    0     |\n",
    "| UnitPrice     | float64    | 536641   | 1630     |    0     |\n",
    "| CustomerID    | int64      | 536641   | 4372     |    0     |\n",
    "| Country       | object     | 536641   | 38       |    0     |\n",
    "\n",
    "Ada missing Value sebanyak <mark>1454 pada bagian Description</mark>\n"
   ]
  },
  {
   "cell_type": "markdown",
   "metadata": {},
   "source": [
    "### Data Preprocessing\n",
    "\n",
    "1. Fill Missing Value Description dengan referensi StockCode yang ada\n",
    "    * Mengisi deskripsi yang kosong menggunakan referensi stock code yang sudah ada.\n",
    "2. Adanya Stock Code dengan huruf dan referensi tertentu\n",
    "    |InvoiceNo| StockCode|\tDescription   | Quantity| InvoiceDate        |\tUnitPrice |\tCustomerID |\tCountry    |\n",
    "    |----------|----------|---------------|---------|--------------------|------------|------------|---------------|\n",
    "    | C536379  |  D\t      |Discount\t      | -1\t    |2010-12-01  09:41:00|\t27.50\t  |14527\t   |United Kingdom |\n",
    "    | 536569   |  M\t      |Manual\t      |  1\t    |2010-12-01  15:35:00|\t1.25\t  |16274\t   |United Kingdom |\n",
    "    | C537581  |  S\t      |SAMPLES\t      | -1\t    |2010-12-07  12:03:00|\t12.95\t  |15287\t   |United Kingdom |\n",
    "    | A563185  |  B\t      |Adjust bad debt|\t1\t    |2011-08-12  14:50:00|\t11062.06  |15287\t   |United Kingdom |\n",
    "\n",
    "    * Dengan asumsi bahwa ini merupakan sebuah kode dari invoice namun tidak merupakan bagian dari penjualan jadi lebih baik dibuang untuk meningkatkan kualitas analisis penjualan.\n",
    "3. Inspeksi Quantity dan UnitPrice < 0\n",
    "    * Tedapat data kuantitas dan unitprice yang kurang dari 0 dimana bernilai negatif. Dengan asumsi bahwa data yang ditulis terdapat kesalahan saat menginput maka diubah menjadi positif dengan funsgi abs.\n",
    "4. Inspeksi Quantity dan UnitPrice = 0\n",
    "    * Berbeda dengan data yang negatif ada kuantitas dan unit price yang berangka 0. Dengan asumsi bahwa ada kesalahan tulis dan akan menyebabkan perhitungan sales salah kedepannya maka sebaiknya data berikut dihapus.\n",
    "5. Invoicedate to datetime\n",
    "    * Sebelumnya data Invoice Date bertipe data object agar mempermudah analisis maka akan diubah kedalam bentuk datetime. Serta untuk memperkaya analisa maka dibuat kolom year(tahun), month(bulan), day(tanggal), weekday(hari), time(waktu), time of day(latar waktu)\n",
    "6. Sales = Quantity * UnitPrice\n",
    "    * Untuk mempermudah perhitungan transaksi maka dibuat sebuah kolom sales yaitu perkalian antara kuantitas dan unit price atau harga unit barang."
   ]
  },
  {
   "cell_type": "markdown",
   "metadata": {},
   "source": [
    "### Describe Variable\n",
    "\n",
    "1. Berikut adalah deskripsi value dari variabel yang bersifat angka\n",
    "|           |   count |       mean |       std |      min |     25% |     50% |     75% |      max |\n",
    "|:----------|--------:|-----------:|----------:|---------:|--------:|--------:|--------:|---------:|\n",
    "| Quantity  |  533429 |   10.9399  | 216.507   |    1     |    1    |    3    |   11    |  80995   |\n",
    "| UnitPrice |  533429 |    4.26289 |  72.8431  |    0.001 |    1.25 |    2.1  |    4.13 |  17836.5 |\n",
    "| year      |  533429 | 2010.92    |   0.26833 | 2010     | 2011    | 2011    | 2011    |   2011   |\n",
    "| month     |  533429 |    7.54822 |   3.50859 |    1     |    5    |    8    |   11    |     12   |\n",
    "| day       |  533429 |   15.0197  |   8.66034 |    1     |    7    |   15    |   22    |     31   |\n",
    "| weekday   |  533429 |    2.42596 |   1.84171 |    0     |    1    |    2    |    4    |      6   |\n",
    "| Time      |  533429 |   13.0752  |   2.4481  |    6     |   11    |   13    |   15    |     20   |\n",
    "| Sales     |  533429 |   21.168   | 375.958   |    0.001 |    3.9  |    9.92 |   17.7  | 168470   |\n",
    "| Cluster   |  533429 |    2.28977 |   1.78763 |    0     |    1    |    4    |    4    |      5   |\n",
    "\n",
    "2. Berikut adalah deskripsi value dari variabel yang bersifat kategorikal objek\n",
    "|        |   InvoiceNo | StockCode   | Description                        |   CustomerID | Country        | dayofweek   | Time of Day   | Month         |\n",
    "|:-------|------------:|:------------|:-----------------------------------|-------------:|:---------------|:------------|:--------------|:--------------|\n",
    "| count  |      533429 | 533429      | 533429                             |       533429 | 533429         | 533429      | 533429        | 533429        |\n",
    "| unique |       23453 | 3934        | 4039                               |         4362 | 38             | 6           | 4             | 13            |\n",
    "| top    |      573585 | 85123A      | WHITE HANGING HEART T-LIGHT HOLDER |        15287 | United Kingdom | Thursday    | Afternoon     | November 2011 |\n",
    "| freq   |        1114 | 2295        | 2353                               |       132417 | 487199         | 102428      | 224359        | 83006         |"
   ]
  },
  {
   "cell_type": "markdown",
   "metadata": {},
   "source": [
    "### EDA"
   ]
  },
  {
   "cell_type": "markdown",
   "metadata": {},
   "source": [
    "#### Distribusi transaksi di tiap negara\n",
    "\n",
    "| Country              |         Quantity |       UnitPrice |             year |           month |              day |       weekday |             Time |            Sales |         Cluster |\n",
    "|:---------------------|-----------------:|----------------:|-----------------:|----------------:|-----------------:|--------------:|-----------------:|-----------------:|----------------:|\n",
    "| Australia            |  84447           |  4048           |      2.52377e+06 |  7662           |  18328           |  2862         |  14337           | 139898           |  1239           |\n",
    "| Austria              |   4935           |  1701.52        | 806402           |  3058           |   6641           |   712         |   4881           |  10243           |   401           |\n",
    "| Bahrain              |    368           |    86.57        |  38208           |    98           |    218           |    14         |    259           |    959.88        |    25           |\n",
    "| Belgium              |  23322           |  7540.13        |      4.16066e+06 | 15284           |  31795           |  5519         |  25327           |  41481.7         |  2069           |\n",
    "| Brazil               |    356           |   142.6         |  64352           |   128           |    480           |   128         |    320           |   1143.6         |    32           |\n",
    "| Canada               |   2763           |   910.58        | 303661           |   963           |   2271           |    21         |   1490           |   3666.38        |    40           |\n",
    "| Channel Islands      |   9495           |  3150.9         |      1.51829e+06 |  5130           |  10405           |  1837         |   8315           |  20218.7         |  3020           |\n",
    "| Cyprus               |   6382           |  3238.66        |      1.22462e+06 |  4434           |   7515           |  1403         |   7320           |  13505.6         |   609           |\n",
    "| Czech Republic       |    750           |    88.15        |  60330           |   171           |    546           |    60         |    283           |    945.76        |    30           |\n",
    "| Denmark              |   8282           |  1266.95        | 782259           |  3088           |   6661           |   816         |   4899           |  19142.5         |   389           |\n",
    "| EIRE                 | 151780           | 32739.4         |      1.64234e+07 | 62775           | 124333           | 18442         |  98380           | 287627           | 27940           |\n",
    "| European Community   |    501           |   294.05        | 122671           |   373           |   1006           |   216         |    653           |   1308.75        |   244           |\n",
    "| Finland              |  10740           |  3511.25        |      1.39562e+06 |  4662           |   8393           |  1476         |   7634           |  22214.2         |   694           |\n",
    "| France               | 113654           | 28201           |      1.71554e+07 | 64102           | 125157           | 20832         | 103130           | 202938           |  9386           |\n",
    "| Germany              | 120954           | 33109.8         |      1.90295e+07 | 68937           | 144344           | 23531         | 114600           | 231324           |  9643           |\n",
    "| Greece               |   1558           |   713.29        | 293606           |   829           |   1595           |   248         |   1512           |   4810.52        |   220           |\n",
    "| Hong Kong            |   4711           |  1096.78        | 559058           |  1484           |   5030           |   541         |   3326           |   9930.14        |  1112           |\n",
    "| Iceland              |   2458           |   481.21        | 365971           |  1383           |   2879           |   259         |   2219           |   4310           |   182           |\n",
    "| Israel               |   4462           |  1073.19        | 591232           |  2204           |   4255           |   793         |   2770           |   8356.85        |   435           |\n",
    "| Italy                |   8223           |  3848.56        |      1.61077e+06 |  6040           |  14063           |  1715         |  10229           |  18045.1         |   882           |\n",
    "| Japan                |  26811           |   735.69        | 713840           |  2314           |   4596           |  1003         |   3890           |  39412.9         |   355           |\n",
    "| Lebanon              |    386           |   242.44        |  90495           |    45           |   1215           |   135         |    450           |   1693.88        |    45           |\n",
    "| Lithuania            |    652           |    99.44        |  70350           |   420           |    178           |   206         |    422           |   1661.06        |   140           |\n",
    "| Malta                |    996           |   666.01        | 255397           |   996           |   1702           |   162         |   1343           |   2945.71        |   180           |\n",
    "| Netherlands          | 200689           |  6285.93        |      4.75594e+06 | 15933           |  40504           |  4969         |  27725           | 285919           |  8602           |\n",
    "| Norway               |  19421           |  4848.46        |      2.16972e+06 |  9792           |  17338           |  2696         |  13764           |  35486.8         |  1079           |\n",
    "| Poland               |   3715           |  1422.27        | 685743           |  2229           |   3690           |   663         |   3806           |   7456.16        |   341           |\n",
    "| Portugal             |  16294           |  4551.8         |      3.00834e+06 | 11732           |  19675           |  3462         |  18624           |  29602.8         |  1613           |\n",
    "| RSA                  |    351           |   248.1         | 114627           |   570           |    741           |   171         |    684           |   1002.31        |    57           |\n",
    "| Saudi Arabia         |     85           |    24.11        |  20110           |    21           |    219           |    30         |    101           |    160.67        |    10           |\n",
    "| Singapore            |   5234           |   791.09        | 432365           |  1109           |   3458           |   236         |   2521           |   9120.39        |   215           |\n",
    "| Spain                |  29057           |  9778.88        |      5.07569e+06 | 17062           |  41661           |  6482         |  32446           |  65518.5         |  2311           |\n",
    "| Sweden               |  36523           |  1774.73        | 925033           |  3349           |   7306           |  1333         |   5663           |  40120.2         |   260           |\n",
    "| Switzerland          |  30922           |  6795.59        |      4.00787e+06 | 14527           |  31966           |  5384         |  24068           |  57772.2         |  2344           |\n",
    "| USA                  |   3882           |   644.98        | 585201           |  2864           |   3359           |   397         |   4302           |   5429.86        |   291           |\n",
    "| United Arab Emirates |    982           |   229.89        | 136748           |   402           |    479           |   114         |   1002           |   1902.28        |    38           |\n",
    "| United Kingdom       |      4.89624e+06 |     2.10637e+06 |      9.79718e+08 |     3.68698e+06 |      7.31068e+06 |     1.184e+06 |      6.41569e+06 |      9.65962e+06 |     1.14393e+06 |\n",
    "| Unspecified          |   3295           |  1196.41        | 888862           |  3286           |   7245           |  1206         |   6298           |   4740.94        |  1022           |\n",
    "\n",
    "Distribution transaksi tiap negara (Treemap)\n",
    "![Distribution_transaction](Images/distribusi_transaksi_negara.png)"
   ]
  },
  {
   "cell_type": "markdown",
   "metadata": {},
   "source": [
    "#### Sales, Quantity, dan UnitPrice untuk setiap transaksi tiap invoice\n",
    "\n",
    "|           |   count |     mean |      std |   min |   25% |    50% |    75% |      max |\n",
    "|:----------|--------:|---------:|---------:|------:|------:|-------:|-------:|---------:|\n",
    "| Sales     |   23453 | 481.458  | 2072.68  |  0.38 | 97.73 | 249.64 | 443    | 168470   |\n",
    "| Quantity  |   23453 | 248.824  | 1142.42  |  1    | 35    | 121    | 261    |  80995   |\n",
    "| UnitPrice |   23453 |  96.9576 |  415.509 |  0.03 | 11.4  |  36.24 |  79.13 |  17836.5 |\n",
    "\n",
    "![Invoice_sales_quantity_UnitPrice](Images/berdasarkan_invoice.png)"
   ]
  },
  {
   "cell_type": "markdown",
   "metadata": {},
   "source": [
    "#### Sales dalam waktu\n",
    "\n",
    "![year](Images/year.png)\n",
    "![year_1](Images/year_1.png)\n",
    "![month](Images/month.png)\n",
    "![day_of_week](Images/day_of_week.png)\n",
    "![time_of_day](Images/time_of_day.png)\n",
    "![time_of_day_sales](Images/time_of_day_sales.png)"
   ]
  },
  {
   "cell_type": "markdown",
   "metadata": {},
   "source": [
    "#### Product Analisis\n",
    "\n",
    "![top_purchase](Images/top_purchase.png)\n",
    "![wordcloud](Images/wordcloud.png)"
   ]
  },
  {
   "cell_type": "markdown",
   "metadata": {},
   "source": [
    "## Modeling\n",
    "\n",
    "Untuk Menyelesaikan kasus segmentasi pelanggan maka menggunakan kasus cluster yaitu Clustering. Berikut adalah langkah-langkah untuk melakukan clustering.\n",
    "\n",
    "1. Tentukan Features Cluster yang akan digunakan\n",
    "2. Melakukan standarscaler \n",
    "3. Evaluasi cluster dengan metode Elbow Methods dan SSE(Sum of Squares Errors)\n",
    "4. Melakukan cluster sesuai dengan angka optimal k dari Elbow Methods"
   ]
  },
  {
   "cell_type": "markdown",
   "metadata": {},
   "source": [
    "### Tentukan Features Cluster yang akan digunakan\n",
    "\n",
    "> Untuk mengetahui perilaku transaksi pelanggan maka algoritma yang cocok untuk menyelesaikan kasus diatas adalah kluster.\n",
    "dimana menurut KBBI kluster adalah \"beberapa benda atau hal yang berkelompok menjadi satu\" atau lebih tepatnya kita mengelompokkan perilaku customer ke dalam kelompok-kelompok tertentu. \n",
    "\n",
    "> Features atau variabel yang akan mendukung kita untuk menentukan perilaku pelanggan yaitu tentu CustomerID, Quantity, UnitPrice. Kenapa sales tidak termasuk karena sales merupakan perkalian dari kuantitas barang dan harga unit barang. Dengan 3 variabel itu maka kita dapat melihat perilaku pelanggan saat menentukan harga dan berapa banyak jumlah barang yang akan dibeli."
   ]
  },
  {
   "cell_type": "markdown",
   "metadata": {},
   "source": [
    "### Melakukan StandarScaler"
   ]
  },
  {
   "cell_type": "markdown",
   "metadata": {},
   "source": [
    "> Standard Scaler merupakan metode preprocessing di mana metode tersebut akan melakukan standarisasi fitur dengan menghapus rata-rata dan menskalakan unit varian yang tentunya berguna membuat numerical data pada dataset memiliki rentang nilai (scale) yang sama. Tidak ada lagi satu variabel data yang mendominasi variabel data lainnya. "
   ]
  },
  {
   "cell_type": "markdown",
   "metadata": {},
   "source": [
    "### Evaluasi cluster dengan metode Elbow Methods dan SSE(Sum of Squares Errors)\n",
    "\n",
    "> Untuk menggunakan kmeans clustering kita membutuhkan yang namanya jumlah kluster. Dengan metode elbow method kita berupaya untuk menentukan jumlah kluster yang terbaik dengan melihat persentasenya. Namun dalam kasus ini kita menggunakan kombinasi antara elbow method dan juga sum of squares errors. Dengan teknik evaluasi dari elbow method dan sse maka kita dapat menentukan jumlah kluster jatuh pada angka berapa. \n",
    "\n",
    "![Cluster_count](Images/jumlah_cluster.png)\n",
    "\n",
    "> Dapat dilihat melalui grafik bahwa angka optimal yang bagus untuk menentukan nilai kluster adalah saat kurva sudah menunjukkan angka yang konstan yaitu berada di angka 6"
   ]
  },
  {
   "cell_type": "markdown",
   "metadata": {},
   "source": [
    "### Melakukan cluster sesuai dengan angka optimal k dari Elbow Methods\n",
    "\n",
    "Berikut adalah hasil dari kluster yang dihasilkan\n",
    "\n",
    "|   Cluster |   ('Quantity', 'mean') |   ('Quantity', 'median') |   ('UnitPrice', 'mean') |   ('UnitPrice', 'median') |   ('CustomerID', 'count') |\n",
    "|----------:|-----------------------:|-------------------------:|------------------------:|--------------------------:|--------------------------:|\n",
    "|         0 |               12.0948  |                        4 |                 2.85305 |                      1.93 |                    132007 |\n",
    "|         1 |               14.0531  |                        6 |                 3.18682 |                      1.95 |                    128078 |\n",
    "|         2 |            77605       |                    77605 |                 1.56    |                      1.56 |                         4 |\n",
    "|         3 |                1       |                        1 |              6013.77    |                   5876.4  |                        25 |\n",
    "|         4 |                7.78879 |                        2 |                 4.47098 |                      2.46 |                    273307 |\n",
    "|         5 |                1       |                        1 |             14607.9     |                  13541.3  |                         8 |\n",
    "\n",
    "\n"
   ]
  },
  {
   "cell_type": "markdown",
   "metadata": {
    "ExecuteTime": {
     "end_time": "2023-07-13T18:09:08.423819Z",
     "start_time": "2023-07-13T18:09:08.365468Z"
    }
   },
   "source": [
    "Dapat dilihat juga dalam bentuk cluster distribusi persentase negara yang masuk dalam cluster tersebut\n",
    "\n",
    "| Country              |     0 |      1 |   2 |    3 |      4 |   5 |\n",
    "|:---------------------|------:|-------:|----:|-----:|-------:|----:|\n",
    "| Australia            |  1.27 |  98.73 |   0 | 0    |   0    |   0 |\n",
    "| Austria              |  0    | 100    |   0 | 0    |   0    |   0 |\n",
    "| Bahrain              |  0    |  89.47 |   0 | 0    |  10.53 |   0 |\n",
    "| Belgium              |  0    | 100    |   0 | 0    |   0    |   0 |\n",
    "| Brazil               |  0    | 100    |   0 | 0    |   0    |   0 |\n",
    "| Canada               | 93.38 |   0    |   0 | 0    |   6.62 |   0 |\n",
    "| Channel Islands      |  0    |   0    |   0 | 0    | 100    |   0 |\n",
    "| Cyprus               |  0    | 100    |   0 | 0    |   0    |   0 |\n",
    "| Czech Republic       |  0    | 100    |   0 | 0    |   0    |   0 |\n",
    "| Denmark              |  0    | 100    |   0 | 0    |   0    |   0 |\n",
    "| EIRE                 |  0    |  19.3  |   0 | 0    |  80.7  |   0 |\n",
    "| European Community   |  0    |   0    |   0 | 0    | 100    |   0 |\n",
    "| Finland              |  0    | 100    |   0 | 0    |   0    |   0 |\n",
    "| France               |  0    |  96.66 |   0 | 0    |   3.34 |   0 |\n",
    "| Germany              |  0    |  99.37 |   0 | 0    |   0.63 |   0 |\n",
    "| Greece               | 15.07 |  63.01 |   0 | 0    |  21.92 |   0 |\n",
    "| Hong Kong            |  0    |   0    |   0 | 0    | 100    |   0 |\n",
    "| Iceland              |  0    | 100    |   0 | 0    |   0    |   0 |\n",
    "| Israel               |  0    |  84.01 |   0 | 0    |  15.99 |   0 |\n",
    "| Italy                |  0    |  96.63 |   0 | 0    |   3.37 |   0 |\n",
    "| Japan                |  0    | 100    |   0 | 0    |   0    |   0 |\n",
    "| Lebanon              |  0    | 100    |   0 | 0    |   0    |   0 |\n",
    "| Lithuania            |  0    |   0    |   0 | 0    | 100    |   0 |\n",
    "| Malta                | 64.57 |   0    |   0 | 0    |  35.43 |   0 |\n",
    "| Netherlands          |  0    |  12.09 |   0 | 0    |  87.91 |   0 |\n",
    "| Norway               |  0    | 100    |   0 | 0    |   0    |   0 |\n",
    "| Poland               |  0    | 100    |   0 | 0    |   0    |   0 |\n",
    "| Portugal             |  0    |  97.39 |   0 | 0    |   2.61 |   0 |\n",
    "| RSA                  |  0    | 100    |   0 | 0    |   0    |   0 |\n",
    "| Saudi Arabia         |  0    | 100    |   0 | 0    |   0    |   0 |\n",
    "| Singapore            |  0    | 100    |   0 | 0    |   0    |   0 |\n",
    "| Spain                |  8.44 |  91.56 |   0 | 0    |   0    |   0 |\n",
    "| Sweden               | 43.48 |  56.52 |   0 | 0    |   0    |   0 |\n",
    "| Switzerland          |  0    |  94.13 |   0 | 0    |   5.87 |   0 |\n",
    "| USA                  |  0    | 100    |   0 | 0    |   0    |   0 |\n",
    "| United Arab Emirates | 44.12 |  55.88 |   0 | 0    |   0    |   0 |\n",
    "| United Kingdom       | 26.94 |  19.15 |   0 | 0.01 |  53.91 |   0 |\n",
    "| Unspecified          | 12.67 |  39.37 |   0 | 0    |  47.96 |   0 |"
   ]
  },
  {
   "cell_type": "markdown",
   "metadata": {},
   "source": [
    "## Kesimpulan\n",
    "\n",
    "\n",
    "Berdasarkan hasil analisis cluster, dapat ditarik kesimpulan sebagai berikut:\n",
    "\n",
    "Cluster 0 berisi pemesanan terbanyak (378366 dari 541909), dimana rata-rata nilai Quantity sebesar 10, dan rata-rata nilai UnitPrice sebesar 5,38. Nilai median kedua variabel berada di bawah nilai rata-rata. Ini mungkin menunjukkan bahwa sebagian besar pesanan terdiri dari sejumlah kecil item dengan harga yang relatif tinggi.\n",
    "\n",
    "Klaster 1 juga berisi sejumlah besar pesanan (163539 dari 541909). Pada cluster ini, nilai rata-rata Quantity sedikit lebih tinggi dari pada cluster 0, yaitu 12, dan nilai rata-rata UnitPrice adalah 2,84. Nilai median kedua variabel juga lebih rendah dari nilai rata-ratanya. Ini mungkin menunjukkan bahwa sebagian besar pesanan dalam klaster ini mengandung jumlah barang yang lebih banyak, tetapi dengan harga yang lebih rendah.\n",
    "\n",
    "Cluster 2 hanya berisi 4 ordo, sehingga kurang signifikan untuk dianalisis. Namun, dapat diperhatikan bahwa nilai rata-rata Quantity dalam cluster ini berada pada level yang sangat tinggi (77605), yang merupakan outlier relatif terhadap data lainnya. Rata-rata nilai UnitPrice pada cluster ini adalah sebesar 1,56.\n",
    "\n",
    "Rekomendasi:\n",
    "\n",
    "Cluster 0 berisi jumlah pesanan terbesar dan merupakan cluster paling tipikal. Anda dapat menawarkan kampanye pemasaran yang akan ditujukan untuk menarik pelanggan yang memesan barang dalam jumlah kecil, tetapi bersedia membayar harga yang lebih tinggi untuk barang tersebut.\n",
    "\n",
    "Cluster 1 juga berisi pesanan dalam jumlah yang signifikan, dan harga rata-rata di dalamnya lebih rendah daripada di cluster 0. Anda dapat menawarkan kampanye pemasaran yang ditujukan untuk menarik pelanggan yang memesan lebih banyak produk dengan harga lebih murah.\n",
    "\n",
    "Cluster 2 berisi outlier yang dapat sangat merusak gambaran keseluruhan data. Anda dapat mempertimbangkan untuk menghapus data ini dari analisis lebih lanjut untuk mendapatkan hasil yang lebih akurat."
   ]
  },
  {
   "cell_type": "markdown",
   "metadata": {},
   "source": [
    "## Daftar Pustaka"
   ]
  },
  {
   "cell_type": "markdown",
   "metadata": {},
   "source": [
    "[1] J.-C. CHOUINARD, “What is KMeans Clustering Algorithm (with Example) – Python.” 2023, [Online]. Available: https://www.jcchouinard.com/kmeans/#:~:text=KMeans inertia%2C also known as,values minus the means%2C squared."
   ]
  },
  {
   "cell_type": "markdown",
   "metadata": {},
   "source": [
    "[2] “online-retail-transactions-dataset.” [Online]. Available: https://www.kaggle.com/datasets/abhishekrp1517/online-retail-transactions-dataset?select=Online+Retail.csv"
   ]
  },
  {
   "cell_type": "markdown",
   "metadata": {
    "ExecuteTime": {
     "end_time": "2023-07-13T13:37:29.651793Z",
     "start_time": "2023-07-13T13:37:29.633936Z"
    }
   },
   "source": [
    "[3] N. A. Rakhmawati, A. E. Permana, A. M. Reyhan, and H. Rafli, “Analisa Transaksi Belanja Online Pada Masa Pandemi Covid-19,” J. Teknoinfo, vol. 15, no. 1, p. 32, 2021, doi: 10.33365/jti.v15i1.868."
   ]
  }
 ],
 "metadata": {
  "colab": {
   "provenance": []
  },
  "kernelspec": {
   "display_name": "Python 3 (ipykernel)",
   "language": "python",
   "name": "python3"
  },
  "language_info": {
   "codemirror_mode": {
    "name": "ipython",
    "version": 3
   },
   "file_extension": ".py",
   "mimetype": "text/x-python",
   "name": "python",
   "nbconvert_exporter": "python",
   "pygments_lexer": "ipython3",
   "version": "3.8.5"
  },
  "toc": {
   "base_numbering": 1,
   "nav_menu": {},
   "number_sections": true,
   "sideBar": true,
   "skip_h1_title": false,
   "title_cell": "Table of Contents",
   "title_sidebar": "Contents",
   "toc_cell": false,
   "toc_position": {},
   "toc_section_display": true,
   "toc_window_display": false
  },
  "varInspector": {
   "cols": {
    "lenName": 16,
    "lenType": 16,
    "lenVar": 40
   },
   "kernels_config": {
    "python": {
     "delete_cmd_postfix": "",
     "delete_cmd_prefix": "del ",
     "library": "var_list.py",
     "varRefreshCmd": "print(var_dic_list())"
    },
    "r": {
     "delete_cmd_postfix": ") ",
     "delete_cmd_prefix": "rm(",
     "library": "var_list.r",
     "varRefreshCmd": "cat(var_dic_list()) "
    }
   },
   "types_to_exclude": [
    "module",
    "function",
    "builtin_function_or_method",
    "instance",
    "_Feature"
   ],
   "window_display": false
  }
 },
 "nbformat": 4,
 "nbformat_minor": 1
}
